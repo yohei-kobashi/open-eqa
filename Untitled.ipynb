{
 "cells": [
  {
   "cell_type": "code",
   "execution_count": 1,
   "id": "3bbfba1d-3403-4da2-9e21-fa435997291f",
   "metadata": {},
   "outputs": [
    {
     "name": "stderr",
     "output_type": "stream",
     "text": [
      "/home/kobashi/miniconda3/envs/habitat/lib/python3.9/site-packages/tqdm/auto.py:21: TqdmWarning: IProgress not found. Please update jupyter and ipywidgets. See https://ipywidgets.readthedocs.io/en/stable/user_install.html\n",
      "  from .autonotebook import tqdm as notebook_tqdm\n"
     ]
    }
   ],
   "source": [
    "import math\n",
    "import os\n",
    "import random\n",
    "\n",
    "import git\n",
    "import imageio\n",
    "import magnum as mn\n",
    "import numpy as np\n",
    "\n",
    "%matplotlib inline\n",
    "from matplotlib import pyplot as plt\n",
    "\n",
    "# function to display the topdown map\n",
    "from PIL import Image\n",
    "\n",
    "import habitat_sim\n",
    "from habitat_sim.utils import common as utils\n",
    "from habitat_sim.utils import viz_utils as vut"
   ]
  },
  {
   "cell_type": "code",
   "execution_count": 2,
   "id": "074f0a88-eecb-48d3-9671-18178a42e323",
   "metadata": {},
   "outputs": [],
   "source": [
    "import glob"
   ]
  },
  {
   "cell_type": "code",
   "execution_count": 26,
   "id": "ea4d085e-9a9a-429d-a28c-1a1680d542ea",
   "metadata": {},
   "outputs": [],
   "source": [
    "obj_paths = glob.glob(\"./data/versioned_data/hm3d-0.2/hm3d/val/*/*basis.glb\")"
   ]
  },
  {
   "cell_type": "code",
   "execution_count": 27,
   "id": "9f949493-a765-4771-80c9-76bb09f60c65",
   "metadata": {},
   "outputs": [
    {
     "name": "stdout",
     "output_type": "stream",
     "text": [
      "['./data/versioned_data/hm3d-0.2/hm3d/val/00800-TEEsavR23oF/TEEsavR23oF.basis.glb', './data/versioned_data/hm3d-0.2/hm3d/val/00801-HaxA7YrQdEC/HaxA7YrQdEC.basis.glb', './data/versioned_data/hm3d-0.2/hm3d/val/00802-wcojb4TFT35/wcojb4TFT35.basis.glb', './data/versioned_data/hm3d-0.2/hm3d/val/00803-k1cupFYWXJ6/k1cupFYWXJ6.basis.glb', './data/versioned_data/hm3d-0.2/hm3d/val/00804-BHXhpBwSMLh/BHXhpBwSMLh.basis.glb', './data/versioned_data/hm3d-0.2/hm3d/val/00805-SUHsP6z2gcJ/SUHsP6z2gcJ.basis.glb', './data/versioned_data/hm3d-0.2/hm3d/val/00806-tQ5s4ShP627/tQ5s4ShP627.basis.glb', './data/versioned_data/hm3d-0.2/hm3d/val/00807-rsggHU7g7dh/rsggHU7g7dh.basis.glb', './data/versioned_data/hm3d-0.2/hm3d/val/00808-y9hTuugGdiq/y9hTuugGdiq.basis.glb', './data/versioned_data/hm3d-0.2/hm3d/val/00809-Qpor2mEya8F/Qpor2mEya8F.basis.glb']\n"
     ]
    }
   ],
   "source": [
    "for obj_path in obj_paths:\n",
    "    sim_settings = {\n",
    "        \"scene\": obj_path,\n",
    "        \""
   ]
  }
 ],
 "metadata": {
  "kernelspec": {
   "display_name": "Python 3 (ipykernel)",
   "language": "python",
   "name": "python3"
  },
  "language_info": {
   "codemirror_mode": {
    "name": "ipython",
    "version": 3
   },
   "file_extension": ".py",
   "mimetype": "text/x-python",
   "name": "python",
   "nbconvert_exporter": "python",
   "pygments_lexer": "ipython3",
   "version": "3.9.19"
  }
 },
 "nbformat": 4,
 "nbformat_minor": 5
}
